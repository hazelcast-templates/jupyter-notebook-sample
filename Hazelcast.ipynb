{
 "cells": [
  {
   "cell_type": "markdown",
   "metadata": {},
   "source": [
    "# My Hazelcast Notebook\n",
    "\n",
    "![Hazelcast Logo](https://hazelcast.com/wp-content/themes/hazelcast/assets/img/icons/favicons/apple-touch-icon.png)\n",
    "\n",
    "Welcome to your Hazelcast Notebook.\n",
    "\n",
    "Using this Notebook, you can do:\n",
    "* [Real-Time Streaming Analytics](https://hazelcast.com/use-cases/real-time-streaming-analytics/)\n",
    "* [Real-Time Stream Processing](https://hazelcast.com/use-cases/real-time-stream-processing/)\n",
    "* [Fast Batch Processing](https://hazelcast.com/use-cases/fast-batch-processing/)\n",
    "\n",
    "Check out our documentation on:\n",
    "* [Viridian](https://docs.hazelcast.com/cloud/overview)\n",
    "* [SQL](https://docs.hazelcast.com/hazelcast/latest/sql/sql-overview)\n",
    "* [Python Client](https://hazelcast.readthedocs.io)\n",
    "\n",
    "Here are a few cells to get you started."
   ]
  },
  {
   "cell_type": "code",
   "execution_count": null,
   "metadata": {},
   "outputs": [],
   "source": [
    "# get a SQL connection to the Hazelcast cluster\n",
    "from hazelcast.db import connect\n",
    "from hzconfig import load_config\n",
    "conn = connect(load_config())\n",
    "print(\"OK Connected to the cluster.\")"
   ]
  },
  {
   "cell_type": "code",
   "execution_count": null,
   "metadata": {},
   "outputs": [],
   "source": [
    "# create a cursor\n",
    "cursor = conn.cursor()\n",
    "print(\"OK Created a cursor\")"
   ]
  },
  {
   "cell_type": "code",
   "execution_count": null,
   "metadata": {},
   "outputs": [],
   "source": [
    "# create a mapping\n",
    "cursor.execute('''\n",
    "CREATE OR REPLACE MAPPING city (\n",
    "    __key INT,\n",
    "    country VARCHAR,\n",
    "    name VARCHAR\n",
    ") TYPE IMap OPTIONS(\n",
    "    'keyFormat'='int',\n",
    "    'valueFormat'='json-flat'\n",
    ");\n",
    "''')\n",
    "print(\"OK Created the mapping.\")"
   ]
  },
  {
   "cell_type": "code",
   "execution_count": null,
   "metadata": {},
   "outputs": [],
   "source": [
    "# add some data\n",
    "cursor.execute('''\n",
    "    SINK INTO city VALUES\n",
    "    (1, 'United Kingdom','London'),\n",
    "    (2, 'United Kingdom','Manchester'),\n",
    "    (3, 'United States', 'New York'),\n",
    "    (4, 'United States', 'Los Angeles'),\n",
    "    (5, 'Turkey', 'Ankara'),\n",
    "    (6, 'Turkey', 'Istanbul'),\n",
    "    (7, 'Brazil', 'Sao Paulo'),\n",
    "    (8, 'Brazil', 'Rio de Janeiro');\n",
    "''')\n",
    "print(\"OK Added the sample data.\")\n"
   ]
  },
  {
   "cell_type": "code",
   "execution_count": null,
   "metadata": {},
   "outputs": [],
   "source": [
    "# run a query\n",
    "cursor.execute('''\n",
    "    SELECT * FROM city;\n",
    "''')\n",
    "for row in cursor:\n",
    "    print(row[\"__key\"], row[\"name\"], row[\"country\"], sep=\"\\t\")"
   ]
  },
  {
   "cell_type": "code",
   "execution_count": null,
   "metadata": {},
   "outputs": [],
   "source": [
    "# create a dataframe from SQL\n",
    "import pandas\n",
    "df = pandas.read_sql(\"select * from city\", conn)\n",
    "df"
   ]
  },
  {
   "cell_type": "code",
   "execution_count": null,
   "metadata": {},
   "outputs": [],
   "source": [
    "# create a plot from the dataframe\n",
    "df.plot(x=\"name\", y=\"__key\", kind=\"bar\")"
   ]
  }
 ],
 "metadata": {
  "kernelspec": {
   "display_name": ".venv",
   "language": "python",
   "name": "python3"
  },
  "language_info": {
   "codemirror_mode": {
    "name": "ipython",
    "version": 3
   },
   "file_extension": ".py",
   "mimetype": "text/x-python",
   "name": "python",
   "nbconvert_exporter": "python",
   "pygments_lexer": "ipython3",
   "version": "3.11.4"
  }
 },
 "nbformat": 4,
 "nbformat_minor": 2
}
